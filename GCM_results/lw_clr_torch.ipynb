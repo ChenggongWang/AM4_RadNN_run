{
 "cells": [
  {
   "cell_type": "code",
   "execution_count": 1,
   "id": "62e66b85-1fa6-4681-8f08-68be998d9b86",
   "metadata": {
    "execution": {
     "iopub.execute_input": "2023-02-13T20:14:56.763300Z",
     "iopub.status.busy": "2023-02-13T20:14:56.763029Z",
     "iopub.status.idle": "2023-02-13T20:14:58.324499Z",
     "shell.execute_reply": "2023-02-13T20:14:58.324071Z",
     "shell.execute_reply.started": "2023-02-13T20:14:56.763254Z"
    },
    "tags": []
   },
   "outputs": [],
   "source": [
    "import numpy as np\n",
    "import torch\n",
    "from torch import nn  \n",
    "import time \n",
    "import os  \n",
    "import xarray as xr\n",
    "import subprocess\n",
    "import matplotlib.pyplot as plt\n",
    "from matplotlib import colors\n",
    "import cartopy.crs as ccrs"
   ]
  },
  {
   "cell_type": "code",
   "execution_count": 2,
   "id": "75b4e98c-e48e-4e7e-a09c-2032778b1f16",
   "metadata": {
    "execution": {
     "iopub.execute_input": "2023-02-13T20:14:58.325322Z",
     "iopub.status.busy": "2023-02-13T20:14:58.325176Z",
     "iopub.status.idle": "2023-02-13T20:14:58.521481Z",
     "shell.execute_reply": "2023-02-13T20:14:58.521068Z",
     "shell.execute_reply.started": "2023-02-13T20:14:58.325307Z"
    },
    "tags": []
   },
   "outputs": [],
   "source": [
    "## import self defined functions\n",
    "from sys import path \n",
    "# insert at 1, 0 is the script path (or '' in REPL)\n",
    "path.insert(1, '/tigress/cw55/local/python_lib')\n",
    "from cg_funcs import global_mean_xarray\n",
    "root = '/tigress/cw55/work/2022_radi_nn/NN_AM4'\n",
    "path.insert(1,  root)\n",
    "path.insert(1,  root+'/work')\n",
    "# import work.lw_csaf_Li5Relu_EN.train_script01 as lwcsafen\n",
    "import lw_csaf_Li5Relu_EY.train_script01 as lwcsafey \n",
    "# import work.lw_af_Li5Relu_EN.train_script01 as lwafen\n",
    "import lw_af_Li5Relu_EY.train_script01 as lwafey "
   ]
  },
  {
   "cell_type": "code",
   "execution_count": 3,
   "id": "56c026fe-98b4-4bf6-a0ca-1e1c81080ecf",
   "metadata": {
    "execution": {
     "iopub.execute_input": "2023-02-13T20:14:58.522906Z",
     "iopub.status.busy": "2023-02-13T20:14:58.522754Z",
     "iopub.status.idle": "2023-02-13T20:14:58.526453Z",
     "shell.execute_reply": "2023-02-13T20:14:58.526115Z",
     "shell.execute_reply.started": "2023-02-13T20:14:58.522890Z"
    },
    "tags": []
   },
   "outputs": [],
   "source": [
    " \n",
    "from get_AM4_data_lw import get_AM4_data_lw\n",
    "######################################################\n",
    "# common functions to split the training and test data\n",
    "from NNRTMC_lw_utils import  split_train_test_sample, \\\n",
    "draw_batches, data_std_normalization, print_key_results, return_exp_dir\n",
    "    \n",
    "from diag_utils import batch_index_sta_end, pred_NN_batch,\\\n",
    "create_6tiles_lw,regrid_6tile2latlon"
   ]
  },
  {
   "cell_type": "code",
   "execution_count": 4,
   "id": "c499ebeb-a7a2-4d5e-be47-140e7e6784e5",
   "metadata": {
    "execution": {
     "iopub.execute_input": "2023-02-13T20:14:58.527112Z",
     "iopub.status.busy": "2023-02-13T20:14:58.527013Z",
     "iopub.status.idle": "2023-02-13T20:14:58.714315Z",
     "shell.execute_reply": "2023-02-13T20:14:58.713915Z",
     "shell.execute_reply.started": "2023-02-13T20:14:58.527099Z"
    },
    "tags": []
   },
   "outputs": [],
   "source": [
    "if __name__ == '__main__': \n",
    "    torch.cuda.set_device(0) # select gpu_id, default 0 means the first GPU\n",
    "    device = f'cuda:{torch.cuda.current_device()}'\n",
    "    ######################################################\n",
    "    # set exp name and runs\n",
    "    Exp_name = [\n",
    "        # 'lw_csaf_Li5Relu_EN',\n",
    "        'lw_csaf_Li5Relu_EY',\n",
    "        # 'lw_af_Li5Relu_EN'  ,\n",
    "        'lw_af_Li5Relu_EY'  ,\n",
    "    ]\n",
    "    Exp_name_model_dict = {\n",
    "        # 'lw_csaf_Li5Relu_EN': lwcsafen,\n",
    "        'lw_csaf_Li5Relu_EY': lwcsafey,\n",
    "        # 'lw_af_Li5Relu_EN'  : lwafen,\n",
    "        'lw_af_Li5Relu_EY'  : lwafey,\n",
    "    }\n",
    "    sky_cond = {\n",
    "        # 'lw_csaf_Li5Relu_EN': 'csaf',\n",
    "        'lw_csaf_Li5Relu_EY': 'csaf',\n",
    "        # 'lw_af_Li5Relu_EN'  : 'af',\n",
    "        'lw_af_Li5Relu_EY'  : 'af',\n",
    "    }\n",
    "    work_dir = root+'/work/' \n",
    "    # file list AM4 runs \n",
    "    out_filelist = [f'/scratch/gpfs/cw55/NNRTMC_data/AM4_v2/20000101.fluxes.tile{_}.nc' for _ in range(1,7)]\n",
    "    inp_filelist = [f'/scratch/gpfs/cw55/NNRTMC_data/AM4_v2/20000101.new_offline_input.tile{_}.nc' for _ in range(1,7)]\n",
    "    out_filelist = [f'/scratch/gpfs/cw55/NNRTMC_data/AM4_v2/20000101.fluxes.tile{_}.nc' for _ in range(1,2)]\n",
    "    inp_filelist = [f'/scratch/gpfs/cw55/NNRTMC_data/AM4_v2/20000101.new_offline_input.tile{_}.nc' for _ in range(1,2)]\n",
    "\n",
    "    hybrid_p_sigma_para = xr.open_dataset('/tigress/cw55/data/NNRTMC_dataset/AM4_pk_bk_202207.nc')\n",
    "    A_k = hybrid_p_sigma_para.ak.values[None,:]\n",
    "    B_k = hybrid_p_sigma_para.bk.values[None,:] "
   ]
  },
  {
   "cell_type": "code",
   "execution_count": 5,
   "id": "174d1ec8-7ba5-4b8b-8592-2f04dee27232",
   "metadata": {
    "execution": {
     "iopub.execute_input": "2023-02-13T20:14:58.715139Z",
     "iopub.status.busy": "2023-02-13T20:14:58.714941Z",
     "iopub.status.idle": "2023-02-13T20:14:58.717464Z",
     "shell.execute_reply": "2023-02-13T20:14:58.717108Z",
     "shell.execute_reply.started": "2023-02-13T20:14:58.715123Z"
    },
    "tags": []
   },
   "outputs": [],
   "source": [
    "plt.rcParams['font.size'] = '6'"
   ]
  },
  {
   "cell_type": "code",
   "execution_count": 6,
   "id": "40881a56-8e87-4c1d-bc16-de889c08475b",
   "metadata": {
    "execution": {
     "iopub.execute_input": "2023-02-13T20:14:58.718121Z",
     "iopub.status.busy": "2023-02-13T20:14:58.717983Z",
     "iopub.status.idle": "2023-02-13T20:14:58.720401Z",
     "shell.execute_reply": "2023-02-13T20:14:58.720061Z",
     "shell.execute_reply.started": "2023-02-13T20:14:58.718104Z"
    },
    "tags": []
   },
   "outputs": [],
   "source": [
    "month_sel = None\n",
    "day_sel = [15,18,21,24,27]\n",
    "month_sel = [1]\n",
    "day_sel = [15]"
   ]
  },
  {
   "cell_type": "code",
   "execution_count": 7,
   "id": "797c66ae-2c91-4d36-a1dd-55ff6c1f6b01",
   "metadata": {
    "execution": {
     "iopub.execute_input": "2023-02-13T20:14:58.720968Z",
     "iopub.status.busy": "2023-02-13T20:14:58.720866Z",
     "iopub.status.idle": "2023-02-13T20:16:42.790658Z",
     "shell.execute_reply": "2023-02-13T20:16:42.790265Z",
     "shell.execute_reply.started": "2023-02-13T20:14:58.720955Z"
    },
    "tags": []
   },
   "outputs": [
    {
     "name": "stdout",
     "output_type": "stream",
     "text": [
      "load: /tigress/cw55/work/2022_radi_nn/NN_AM4/work/lw_csaf_Li5Relu_EY/restart.04.pth\n",
      "Data files:\n",
      "['/scratch/gpfs/cw55/NNRTMC_data/AM4_v2/20000101.fluxes.tile1.nc'] ['/scratch/gpfs/cw55/NNRTMC_data/AM4_v2/20000101.new_offline_input.tile1.nc']\n",
      "Data selection:\n",
      "    Month: [1] \n",
      "    Day: [15] \n",
      "Reading data... 0 Done.\n",
      "Total data size: 73728\n",
      "CPU times: user 1.72 s, sys: 739 ms, total: 2.45 s\n",
      "Wall time: 1min 44s\n"
     ]
    }
   ],
   "source": [
    "%%time\n",
    "predi = {}\n",
    "error = {}\n",
    "eng_err = {}\n",
    "NN_model = {}\n",
    "ds_regrid = {}\n",
    "\n",
    "for mo in Exp_name:\n",
    "    ######################################################\n",
    "    # load restart file\n",
    "    run_num, exp_dir = return_exp_dir(work_dir, mo, create_dir=False)\n",
    "    PATH_last =  exp_dir+f'/restart.{run_num-1:02d}.pth'\n",
    "    restart_data = torch.load(PATH_last)  # load exist results and restart training\n",
    "    print(f'load: {PATH_last}')\n",
    "    # read training dataset, nor_para, model parameteres\n",
    "    nor_para = restart_data['nor_para']\n",
    "    model_state_dict = restart_data['model_state_dict']\n",
    "    # read data\n",
    "    input_array_ori, output_array_ori, ds_coords = \\\n",
    "    get_AM4_data_lw(out_filelist, inp_filelist, condition=sky_cond[mo], \n",
    "                    month_sel = month_sel, day_sel = day_sel, return_coords=True) \n",
    "    # initialize model \n",
    "    NN_model[mo] = Exp_name_model_dict[mo].NNRTMC_NN(device, nor_para, A_k, B_k, input_array_ori.shape[1],model_state_dict)  \n",
    "    \n",
    "    # normalize data via saved nor_para in restart file\n",
    "    nor_para, input_array, output_array   = data_std_normalization(input_array_ori, output_array_ori, nor_para)\n",
    "    \n",
    "    # try NN on test dataset  \n",
    "    predi[mo], eng_err[mo] = pred_NN_batch(input_array, output_array, NN_model[mo], nor_para, device)\n",
    "    error[mo] = predi[mo] - output_array_ori\n",
    "    predi[mo][:,3:] = predi[mo][:,3:]*86400 # HR K/s >> K/day\n",
    "    error[mo][:,3:] = error[mo][:,3:]*86400 # HR K/s >> K/day\n",
    "    break"
   ]
  },
  {
   "cell_type": "code",
   "execution_count": 8,
   "id": "3b25d020-0485-4ac5-a497-63d962f7d7d0",
   "metadata": {
    "execution": {
     "iopub.execute_input": "2023-02-13T20:16:42.791692Z",
     "iopub.status.busy": "2023-02-13T20:16:42.791385Z",
     "iopub.status.idle": "2023-02-13T20:16:43.219134Z",
     "shell.execute_reply": "2023-02-13T20:16:43.218604Z",
     "shell.execute_reply.started": "2023-02-13T20:16:42.791675Z"
    }
   },
   "outputs": [
    {
     "ename": "NameError",
     "evalue": "name 'input_X' is not defined",
     "output_type": "error",
     "traceback": [
      "\u001b[0;31m---------------------------------------------------------------------------\u001b[0m",
      "\u001b[0;31mNameError\u001b[0m                                 Traceback (most recent call last)",
      "Input \u001b[0;32mIn [8]\u001b[0m, in \u001b[0;36m<cell line: 1>\u001b[0;34m()\u001b[0m\n\u001b[0;32m----> 1\u001b[0m NN_pred1 \u001b[38;5;241m=\u001b[39m NN_model[mo]\u001b[38;5;241m.\u001b[39mpredict(torch\u001b[38;5;241m.\u001b[39mtensor(\u001b[43minput_X\u001b[49m)\u001b[38;5;241m.\u001b[39mto(device))\u001b[38;5;241m.\u001b[39mcpu()\u001b[38;5;241m.\u001b[39mnumpy()\n\u001b[1;32m      2\u001b[0m NN_pred1 \u001b[38;5;241m=\u001b[39m NN_pred1\u001b[38;5;241m/\u001b[39mnor_para[\u001b[38;5;124m'\u001b[39m\u001b[38;5;124moutput_scale\u001b[39m\u001b[38;5;124m'\u001b[39m]\u001b[38;5;241m+\u001b[39mnor_para[\u001b[38;5;124m'\u001b[39m\u001b[38;5;124moutput_offset\u001b[39m\u001b[38;5;124m'\u001b[39m]\n",
      "\u001b[0;31mNameError\u001b[0m: name 'input_X' is not defined"
     ]
    }
   ],
   "source": [
    "NN_pred1 = NN_model[mo].predict(torch.tensor(input_X).to(device)).cpu().numpy()\n",
    "NN_pred1 = NN_pred1/nor_para['output_scale']+nor_para['output_offset']"
   ]
  }
 ],
 "metadata": {
  "kernelspec": {
   "display_name": "pytorch",
   "language": "python",
   "name": "pytorch"
  },
  "language_info": {
   "codemirror_mode": {
    "name": "ipython",
    "version": 3
   },
   "file_extension": ".py",
   "mimetype": "text/x-python",
   "name": "python",
   "nbconvert_exporter": "python",
   "pygments_lexer": "ipython3",
   "version": "3.10.4"
  }
 },
 "nbformat": 4,
 "nbformat_minor": 5
}
