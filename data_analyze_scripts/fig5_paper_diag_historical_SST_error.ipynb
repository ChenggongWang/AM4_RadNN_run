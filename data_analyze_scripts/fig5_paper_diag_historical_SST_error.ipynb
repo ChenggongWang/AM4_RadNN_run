{
 "cells": [
  {
   "cell_type": "code",
   "execution_count": 1,
   "id": "c93f09b7-a925-487a-8783-476a1f85c93f",
   "metadata": {
    "execution": {
     "iopub.execute_input": "2023-10-25T20:12:53.071173Z",
     "iopub.status.busy": "2023-10-25T20:12:53.071005Z",
     "iopub.status.idle": "2023-10-25T20:14:05.455147Z",
     "shell.execute_reply": "2023-10-25T20:14:05.454700Z",
     "shell.execute_reply.started": "2023-10-25T20:12:53.071132Z"
    },
    "tags": []
   },
   "outputs": [
    {
     "name": "stdout",
     "output_type": "stream",
     "text": [
      "loaded data into /dev/shm\n",
      "Read olr          ... done. Use time:   0s\n",
      "Read lwdn_sfc     ... done. Use time:   0s\n",
      "Read swdn_sfc     ... done. Use time:   0s\n",
      "Read swup_sfc     ... done. Use time:   0s\n",
      "Read swup_toa     ... done. Use time:   0s\n",
      "Read tdt_lw       ... done. Use time:  10s\n",
      "Read tdt_sw       ... done. Use time:  10s\n",
      "Read tdt_lw_clr   ... done. Use time:  10s\n",
      "Read tdt_sw_clr   ... done. Use time:  10s\n",
      "Read olr_clr      ... done. Use time:   0s\n",
      "Read lwdn_sfc_clr ... done. Use time:   0s\n",
      "Read swdn_sfc_clr ... done. Use time:   0s\n",
      "Read swup_sfc_clr ... done. Use time:   0s\n",
      "Read swup_toa_clr ... done. Use time:   0s\n",
      "    | timer:   61s\n"
     ]
    }
   ],
   "source": [
    "import numpy as np \n",
    "import time \n",
    "import os  \n",
    "import xarray as xr\n",
    "import psutil\n",
    "import gc\n",
    "\n",
    "year_list = np.arange(1996,2005)\n",
    "year_list = np.arange(1996,1997)\n",
    "# for ti in range(1,7):\n",
    "ori_var = [\n",
    " 'olr',\n",
    " 'lwdn_sfc',\n",
    " 'swdn_sfc',\n",
    " 'swup_sfc',\n",
    " 'swup_toa',\n",
    " 'tdt_lw',\n",
    " 'tdt_sw',\n",
    " 'tdt_lw_clr',\n",
    " 'tdt_sw_clr',\n",
    " 'olr_clr',\n",
    " 'lwdn_sfc_clr',\n",
    " 'swdn_sfc_clr',\n",
    " 'swup_sfc_clr',\n",
    " 'swup_toa_clr',]\n",
    "def build_var_list(ds, orivar):\n",
    "    err_var = []\n",
    "    for _ in orivar:\n",
    "        if _ in list(ds.variables) : \n",
    "            # check nn var\n",
    "            if f'nn_{_}' in list(ds.variables) : \n",
    "                err_var.append(_) \n",
    "            else:\n",
    "                print(f'nn_{_} do not exist in data file. Please check!')\n",
    "        else:\n",
    "            print(f'{_} do not exist in data file. Please check!')\n",
    "    return err_var\n",
    "xe = np.arange(-4,4.01,0.2)\n",
    "err_pred_hist = np.zeros(len(xe)-1)\n",
    "err_pred_hist_err = np.zeros(len(xe)-1)\n",
    "for year in year_list:\n",
    "    for ti in range(1,2):\n",
    "        # file_path = '/scratch/gpfs/cw55/AM4/work/CTL2000_test2000s_nn_stellarcpu_intelmpi_22_768PE/'\n",
    "        # ds= xr.open_mfdataset([file_path+f'HISTORY/{year}0101.atmos_8xdaily.tile{ti}.nc' for year in year_list])  \n",
    "        # ds_nn_3h = ds\n",
    "\n",
    "        file_path = '/scratch/gpfs/cw55/AM4/work/CTL2000_test2000s_nn_stellarcpu_intelmpi_22_768PE_base/' \n",
    "        filename= file_path+f'HISTORY/{year}0101.atmos_8xdaily.tile{ti}.nc'\n",
    "\n",
    "        zero_time = time.time()\n",
    "        # file_stats = os.stat(filename)\n",
    "        # print(f\"Converting file: {filename} | Raw file size: {file_stats.st_size / (1024**3):5.1f} GB \")\n",
    "        os.system(f'cp --parents {filename} /dev/shm/')\n",
    "        print(\"loaded data into /dev/shm\")\n",
    "        with xr.open_dataset(f\"/dev/shm/{filename}\").isel(time=slice(None,-1)) as ds: \n",
    "            var_list=build_var_list(ds,ori_var)\n",
    "            eng_err_check = ds['nn_lwup_sfc'].load()\n",
    "            \n",
    "            err_pred = {}\n",
    "            for svar in ori_var:\n",
    "                # warp operations in with statement to manage the memory better\n",
    "                sta_time = time.time()\n",
    "                print(f'Read {svar:12s} ...', end='')\n",
    "                da = ds[svar].load()\n",
    "                nnda = ds[f'nn_{svar}'].load() \n",
    "                # # Getting % usage of virtual_memory ( 3rd field)\n",
    "                # print('RAM memory % used:', psutil.virtual_memory()[2],end = '| ')\n",
    "                # # Getting usage of virtual_memory in GB ( 4th field)\n",
    "                # print('RAM Used (GB):', psutil.virtual_memory()[3]/1e9)\n",
    "\n",
    "                err_pred[svar] = abs(nnda - da)/(abs(da).mean(['time'])+1e-12)\n",
    "                print(f' done. Use time: {time.time() - sta_time: 3.0f}s')\n",
    "                del da, nnda\n",
    "                # gc.collect()\n",
    "        used_time = time.time() - zero_time  \n",
    "        print(f'    | timer: {used_time:4.0f}s')\n",
    "        os.system(f'rm -f  /dev/shm/{filename}')\n",
    "        # calculate index\n",
    "        err_pred_index = err_pred[ori_var[0]].copy()\n",
    "        for svar in ori_var[1:]:\n",
    "            if 'tdt' in svar:\n",
    "                err_pred_index += err_pred[svar].sum('pfull')\n",
    "                # pass\n",
    "            else:\n",
    "                err_pred_index += err_pred[svar]\n",
    "                \n",
    "        err_pred_index_log1 = np.log(err_pred_index.values.flatten()/142)/np.log(10)\n",
    "        index_sel = np.argwhere(eng_err_check.values.flatten()<0)\n",
    "        err_pred_index_log2 = err_pred_index_log1[index_sel]\n",
    "        hist1,xe = np.histogram(err_pred_index_log1,xe)\n",
    "        hist2,xe = np.histogram(err_pred_index_log2,xe)\n",
    "        err_pred_hist     += hist1\n",
    "        err_pred_hist_err += hist2\n",
    "\n",
    "import pickle\n",
    "with  open('important', 'wb') as file:\n",
    "    pickle.dump([xe,err_pred_hist,err_pred_hist_err],file)"
   ]
  },
  {
   "cell_type": "code",
   "execution_count": 4,
   "id": "267984ed-a773-40a4-a565-2ba8a345c067",
   "metadata": {
    "execution": {
     "iopub.execute_input": "2023-10-27T01:21:25.144438Z",
     "iopub.status.busy": "2023-10-27T01:21:25.144123Z",
     "iopub.status.idle": "2023-10-27T01:21:25.741669Z",
     "shell.execute_reply": "2023-10-27T01:21:25.741111Z",
     "shell.execute_reply.started": "2023-10-27T01:21:25.144420Z"
    },
    "tags": []
   },
   "outputs": [
    {
     "name": "stderr",
     "output_type": "stream",
     "text": [
      "/tmp/ipykernel_2375376/2740828018.py:24: RuntimeWarning: invalid value encountered in true_divide\n",
      "  alarm_rate = err_pred_hist_err/err_pred_hist\n"
     ]
    },
    {
     "data": {
      "image/png": "[encoded data removed]",
      "text/plain": [
       "<Figure size 1200x400 with 2 Axes>"
      ]
     },
     "metadata": {},
     "output_type": "display_data"
    }
   ],
   "source": [
    "import numpy as np\n",
    "import matplotlib.pyplot as plt\n",
    "from matplotlib import colors\n",
    "import cartopy.crs as ccrs\n",
    "import pickle\n",
    "with  open('important', 'rb') as file:\n",
    "    [xe,err_pred_hist,err_pred_hist_err] = pickle.load(file)\n",
    "\n",
    "plt.rcParams['font.size'] = '6'\n",
    "\n",
    "plt.style.reload_library()\n",
    "plt.style.use('seaborn-deep')\n",
    "fig, axs = plt.subplots(nrows=1, ncols=2, figsize=(6,2),dpi=200, tight_layout=True) \n",
    "axs= axs.flatten()\n",
    "ax = axs[0]\n",
    "ax.bar(xe[:-1],err_pred_hist)\n",
    "ax.bar(xe[:-1],err_pred_hist_err)\n",
    "ax.set_xlabel(r'$log_{10}(Normalized\\ Err_{pred})$')\n",
    "ax.set_yscale('log')\n",
    "ax.set_ylabel('Frequency')\n",
    "ax.set_xlim(-4,2)\n",
    "\n",
    "ax = axs[1]\n",
    "alarm_rate = err_pred_hist_err/err_pred_hist\n",
    "ax.plot(xe[:-1],alarm_rate,'-o', label='Eerr>10')\n",
    "ax.set_xlabel(r'$log_{10}(Normalized\\ Err_{pred})$')\n",
    "ax.set_ylabel(r' $\\eta_{Err_{Eng} > 10}$')\n",
    "ax.set_ylim([0,1])\n",
    "ax.set_xlim(-4,2)\n",
    "fig.show()"
   ]
  },
  {
   "cell_type": "code",
   "execution_count": null,
   "id": "a20565b5-9a3c-4399-858b-352282ecfeb5",
   "metadata": {},
   "outputs": [],
   "source": []
  },
  {
   "cell_type": "markdown",
   "id": "03cdc0e2-805b-4108-bc6e-a5a6692ebdff",
   "metadata": {
    "execution": {
     "iopub.execute_input": "2025-03-17T03:47:15.721791Z",
     "iopub.status.busy": "2025-03-17T03:47:15.721411Z",
     "iopub.status.idle": "2025-03-17T03:47:15.724349Z",
     "shell.execute_reply": "2025-03-17T03:47:15.723917Z",
     "shell.execute_reply.started": "2025-03-17T03:47:15.721774Z"
    }
   },
   "source": [
    "# to reproduce Fig 5"
   ]
  },
  {
   "cell_type": "code",
   "execution_count": 1,
   "id": "518d9b6c-076d-49c3-84c0-5543e8ce3449",
   "metadata": {
    "execution": {
     "iopub.execute_input": "2025-03-17T03:46:53.419294Z",
     "iopub.status.busy": "2025-03-17T03:46:53.418978Z",
     "iopub.status.idle": "2025-03-17T03:47:03.908569Z",
     "shell.execute_reply": "2025-03-17T03:47:03.908078Z",
     "shell.execute_reply.started": "2025-03-17T03:46:53.419232Z"
    },
    "tags": []
   },
   "outputs": [
    {
     "name": "stderr",
     "output_type": "stream",
     "text": [
      "/tmp/ipykernel_1583593/1843025940.py:35: RuntimeWarning: invalid value encountered in true_divide\n",
      "  alarm_rate = err_pred_hist_err/err_pred_hist\n"
     ]
    },
    {
     "data": {
      "image/png": "[encoded data removed]",
      "text/plain": [
       "<Figure size 600x400 with 2 Axes>"
      ]
     },
     "metadata": {},
     "output_type": "display_data"
    }
   ],
   "source": [
    "import numpy as np\n",
    "import matplotlib.pyplot as plt\n",
    "from matplotlib import colors\n",
    "import cartopy.crs as ccrs\n",
    "import pickle\n",
    "with  open('error_eng_stats_hist_1996_2004_interactive.p', 'rb') as file:\n",
    "    [xe,err_pred_hist,err_pred_hist_err] = pickle.load(file)\n",
    "\n",
    "plt.rcParams['font.size'] = '6'\n",
    "\n",
    "plt.style.reload_library()\n",
    "plt.style.use('seaborn-deep')\n",
    "fig, axs = plt.subplots(nrows=1, ncols=1, figsize=(3,2),dpi=200, tight_layout=True) \n",
    "# axs= axs.flatten()\n",
    "ax = axs\n",
    "ax.stairs(err_pred_hist,xe,color='black')\n",
    "# ax.stairs(err_pred_hist_err,xe,fc='None',ec='grey')\n",
    "ax.set_xlabel(r'$log_{10}(Normalized\\ prediction\\ error)$')\n",
    "ax.set_yscale('log')\n",
    "ax.set_ylabel('Frequency')\n",
    "ax.set_xlim(-3.5,3.5)\n",
    "#99% line\n",
    "cum_pct = np.cumsum(err_pred_hist)/np.sum(err_pred_hist)\n",
    "index_99pct = np.argmin(np.abs(cum_pct-0.99))\n",
    "index_99p99pct = np.argmin(np.abs(cum_pct-0.9999))\n",
    "index_99p9999pct = np.argmin(np.abs(cum_pct-0.999999))\n",
    "# plt.plot([xe[index_99pct],xe[index_99pct]],[0,err_pred_hist[index_99pct]],'--',c='grey')\n",
    "# plt.plot([xe[index_99p99pct],xe[index_99p99pct]],[0,err_pred_hist[index_99p99pct]],'--',c='grey')\n",
    "# plt.plot([xe[index_99p9999pct],xe[index_99p9999pct]],[0,err_pred_hist[index_99p9999pct]],'--',c='grey')\n",
    "\n",
    "ax = ax.twinx()\n",
    "plt.plot([xe[index_99p99pct],xe[index_99p99pct]],[0,1],'--',c='grey')\n",
    "plt.plot([xe[index_99p9999pct],xe[index_99p9999pct]],[0,1],'--',c='grey')\n",
    "\n",
    "alarm_rate = err_pred_hist_err/err_pred_hist\n",
    "ax.plot((xe[:-1]+xe[1:])/2, alarm_rate, '-o', color='red', label='Eerr>10')\n",
    "# ax.plot(xe[:-1],alarm_rate,'-o', c='red', label='Eerr>10')\n",
    "# ax.stairs(np.cumsum(err_pred_hist)/np.sum(err_pred_hist),xe,color='black')\n",
    "# ax.set_xlabel(r'$log_{10}(Normalized\\ Err_{pred})$')\n",
    "ax.set_ylabel('ratio of $\\epsilon_{Eng}$ > 10')\n",
    "ax.set_ylim([0,1])\n",
    "ax.spines['right'].set_color('red')\n",
    "ax.yaxis.label.set_color('red')\n",
    "ax.tick_params(axis='y', colors='red')\n",
    "fig.show()\n",
    "plt.savefig('fig5_error_energy.pdf')"
   ]
  },
  {
   "cell_type": "code",
   "execution_count": 126,
   "id": "be0ac8ee-26a3-4220-b443-19e377001472",
   "metadata": {
    "execution": {
     "iopub.execute_input": "2023-10-27T02:06:26.416967Z",
     "iopub.status.busy": "2023-10-27T02:06:26.416743Z",
     "iopub.status.idle": "2023-10-27T02:06:26.420072Z",
     "shell.execute_reply": "2023-10-27T02:06:26.419714Z",
     "shell.execute_reply.started": "2023-10-27T02:06:26.416951Z"
    },
    "tags": []
   },
   "outputs": [
    {
     "data": {
      "text/plain": [
       "1.45400832"
      ]
     },
     "execution_count": 126,
     "metadata": {},
     "output_type": "execute_result"
    }
   ],
   "source": [
    "np.sum(err_pred_hist)/1e9"
   ]
  },
  {
   "cell_type": "code",
   "execution_count": 122,
   "id": "91ff87d4-84cc-4ed7-a2cf-697f57916e56",
   "metadata": {
    "execution": {
     "iopub.execute_input": "2023-10-27T02:06:11.046921Z",
     "iopub.status.busy": "2023-10-27T02:06:11.046649Z",
     "iopub.status.idle": "2023-10-27T02:06:11.050246Z",
     "shell.execute_reply": "2023-10-27T02:06:11.049872Z",
     "shell.execute_reply.started": "2023-10-27T02:06:11.046903Z"
    },
    "tags": []
   },
   "outputs": [
    {
     "data": {
      "text/plain": [
       "-0.7999999999999972"
      ]
     },
     "execution_count": 122,
     "metadata": {},
     "output_type": "execute_result"
    }
   ],
   "source": [
    "xe[index_99pct]"
   ]
  },
  {
   "cell_type": "code",
   "execution_count": 123,
   "id": "62d8a56e-46c7-465d-8293-3e78e2308f21",
   "metadata": {
    "execution": {
     "iopub.execute_input": "2023-10-27T02:06:12.287489Z",
     "iopub.status.busy": "2023-10-27T02:06:12.287182Z",
     "iopub.status.idle": "2023-10-27T02:06:12.290310Z",
     "shell.execute_reply": "2023-10-27T02:06:12.289964Z",
     "shell.execute_reply.started": "2023-10-27T02:06:12.287472Z"
    },
    "tags": []
   },
   "outputs": [
    {
     "data": {
      "text/plain": [
       "0.1584893192461124"
      ]
     },
     "execution_count": 123,
     "metadata": {},
     "output_type": "execute_result"
    }
   ],
   "source": [
    "10**xe[index_99pct]"
   ]
  },
  {
   "cell_type": "code",
   "execution_count": 124,
   "id": "abb5a741-f40a-4767-a9c9-84131ec5502e",
   "metadata": {
    "execution": {
     "iopub.execute_input": "2023-10-27T02:06:14.699714Z",
     "iopub.status.busy": "2023-10-27T02:06:14.699343Z",
     "iopub.status.idle": "2023-10-27T02:06:14.702698Z",
     "shell.execute_reply": "2023-10-27T02:06:14.702297Z",
     "shell.execute_reply.started": "2023-10-27T02:06:14.699697Z"
    },
    "tags": []
   },
   "outputs": [
    {
     "data": {
      "text/plain": [
       "3.552713678800501e-15"
      ]
     },
     "execution_count": 124,
     "metadata": {},
     "output_type": "execute_result"
    }
   ],
   "source": [
    "xe[index_99p99pct]"
   ]
  },
  {
   "cell_type": "code",
   "execution_count": 113,
   "id": "343c018d-a47b-4f29-8e73-4fd7138dfde6",
   "metadata": {
    "execution": {
     "iopub.execute_input": "2023-10-27T01:56:48.134547Z",
     "iopub.status.busy": "2023-10-27T01:56:48.134316Z",
     "iopub.status.idle": "2023-10-27T01:56:48.137578Z",
     "shell.execute_reply": "2023-10-27T01:56:48.137165Z",
     "shell.execute_reply.started": "2023-10-27T01:56:48.134532Z"
    },
    "tags": []
   },
   "outputs": [
    {
     "data": {
      "text/plain": [
       "array([0.00000000e+00, 0.00000000e+00, 0.00000000e+00, 0.00000000e+00,\n",
       "       0.00000000e+00, 0.00000000e+00, 4.26407464e-08, 2.91544412e-04,\n",
       "       2.20813420e-02, 9.14923912e-02, 1.93216934e-01, 3.50248816e-01,\n",
       "       5.35225936e-01, 7.27796597e-01, 8.73171052e-01, 9.55602999e-01,\n",
       "       9.90281480e-01, 9.98555271e-01, 9.99597276e-01, 9.99819323e-01,\n",
       "       9.99957104e-01, 9.99992032e-01, 9.99995580e-01, 9.99997973e-01,\n",
       "       9.99999460e-01, 9.99999743e-01, 9.99999874e-01, 9.99999936e-01,\n",
       "       9.99999968e-01, 9.99999981e-01, 9.99999993e-01, 9.99999997e-01,\n",
       "       9.99999999e-01, 1.00000000e+00, 1.00000000e+00, 1.00000000e+00,\n",
       "       1.00000000e+00, 1.00000000e+00, 1.00000000e+00, 1.00000000e+00])"
      ]
     },
     "execution_count": 113,
     "metadata": {},
     "output_type": "execute_result"
    }
   ],
   "source": [
    "cdf"
   ]
  },
  {
   "cell_type": "code",
   "execution_count": 149,
   "id": "9a6e68cb-0fb1-4057-8551-f5da20d036a5",
   "metadata": {
    "execution": {
     "iopub.execute_input": "2023-10-27T02:41:24.606876Z",
     "iopub.status.busy": "2023-10-27T02:41:24.606454Z",
     "iopub.status.idle": "2023-10-27T02:41:24.785475Z",
     "shell.execute_reply": "2023-10-27T02:41:24.785091Z",
     "shell.execute_reply.started": "2023-10-27T02:41:24.606858Z"
    },
    "tags": []
   },
   "outputs": [
    {
     "data": {
      "image/png": "[encoded data removed]",
      "text/plain": [
       "<Figure size 640x480 with 1 Axes>"
      ]
     },
     "metadata": {},
     "output_type": "display_data"
    }
   ],
   "source": [
    "xe_lim_ind = 26\n",
    "plt.stairs(err_pred_hist    [xe_lim_ind:],xe[xe_lim_ind:],color='black')\n",
    "plt.stairs(err_pred_hist_err[xe_lim_ind:],xe[xe_lim_ind:],color='red')\n",
    "plt.yscale('log')"
   ]
  },
  {
   "cell_type": "code",
   "execution_count": 156,
   "id": "aa6d1c0f-66e7-4450-924f-ddc620369803",
   "metadata": {
    "execution": {
     "iopub.execute_input": "2023-10-27T02:42:16.233771Z",
     "iopub.status.busy": "2023-10-27T02:42:16.233479Z",
     "iopub.status.idle": "2023-10-27T02:42:16.305356Z",
     "shell.execute_reply": "2023-10-27T02:42:16.304967Z",
     "shell.execute_reply.started": "2023-10-27T02:42:16.233753Z"
    },
    "tags": []
   },
   "outputs": [
    {
     "data": {
      "text/plain": [
       "<matplotlib.patches.StepPatch at 0x145a57c86f80>"
      ]
     },
     "execution_count": 156,
     "metadata": {},
     "output_type": "execute_result"
    },
    {
     "data": {
      "image/png": "[encoded data removed]",
      "text/plain": [
       "<Figure size 640x480 with 1 Axes>"
      ]
     },
     "metadata": {},
     "output_type": "display_data"
    }
   ],
   "source": [
    "xe_lim_ind = 22\n",
    "plt.stairs(err_pred_hist    [xe_lim_ind:]-err_pred_hist_err[xe_lim_ind:],xe[xe_lim_ind:],color='red')\n",
    "# plt.yscale('log')"
   ]
  },
  {
   "cell_type": "code",
   "execution_count": null,
   "id": "c6cef0b9-cb73-4c51-a04f-941b417079e9",
   "metadata": {},
   "outputs": [],
   "source": []
  },
  {
   "cell_type": "code",
   "execution_count": 3,
   "id": "e29d3e70-c452-4740-8e32-cb0f7229788d",
   "metadata": {
    "execution": {
     "iopub.execute_input": "2023-10-30T20:08:34.755678Z",
     "iopub.status.busy": "2023-10-30T20:08:34.755122Z",
     "iopub.status.idle": "2023-10-30T20:08:35.017003Z",
     "shell.execute_reply": "2023-10-30T20:08:35.016306Z",
     "shell.execute_reply.started": "2023-10-30T20:08:34.755658Z"
    },
    "tags": []
   },
   "outputs": [
    {
     "name": "stderr",
     "output_type": "stream",
     "text": [
      "/tmp/ipykernel_3440848/2057681976.py:35: RuntimeWarning: invalid value encountered in true_divide\n",
      "  alarm_rate = err_pred_hist_err/err_pred_hist\n"
     ]
    },
    {
     "data": {
      "image/png": "[encoded data removed]",
      "text/plain": [
       "<Figure size 600x400 with 2 Axes>"
      ]
     },
     "metadata": {},
     "output_type": "display_data"
    }
   ],
   "source": [
    "import numpy as np\n",
    "import matplotlib.pyplot as plt\n",
    "from matplotlib import colors\n",
    "import cartopy.crs as ccrs\n",
    "import pickle\n",
    "with  open('error_eng_stats_hist_1996_2004.diagnostic.p', 'rb') as file:\n",
    "    [xe,err_pred_hist,err_pred_hist_err] = pickle.load(file)\n",
    "\n",
    "plt.rcParams['font.size'] = '6'\n",
    "\n",
    "plt.style.reload_library()\n",
    "plt.style.use('seaborn-deep')\n",
    "fig, axs = plt.subplots(nrows=1, ncols=1, figsize=(3,2),dpi=200, tight_layout=True) \n",
    "# axs= axs.flatten()\n",
    "ax = axs\n",
    "ax.stairs(err_pred_hist,xe,color='black')\n",
    "# ax.stairs(err_pred_hist_err,xe,fc='None',ec='grey')\n",
    "ax.set_xlabel(r'$log_{10}(Normalized\\ prediction\\ error)$')\n",
    "ax.set_yscale('log')\n",
    "ax.set_ylabel('Frequency')\n",
    "ax.set_xlim(-3.5,3.5)\n",
    "#99% line\n",
    "cum_pct = np.cumsum(err_pred_hist)/np.sum(err_pred_hist)\n",
    "index_99pct = np.argmin(np.abs(cum_pct-0.99))\n",
    "index_99p99pct = np.argmin(np.abs(cum_pct-0.9999))\n",
    "index_99p9999pct = np.argmin(np.abs(cum_pct-0.999999))\n",
    "# plt.plot([xe[index_99pct],xe[index_99pct]],[0,err_pred_hist[index_99pct]],'--',c='grey')\n",
    "# plt.plot([xe[index_99p99pct],xe[index_99p99pct]],[0,err_pred_hist[index_99p99pct]],'--',c='grey')\n",
    "# plt.plot([xe[index_99p9999pct],xe[index_99p9999pct]],[0,err_pred_hist[index_99p9999pct]],'--',c='grey')\n",
    "\n",
    "ax = ax.twinx()\n",
    "plt.plot([xe[index_99p99pct],xe[index_99p99pct]],[0,1],'--',c='grey')\n",
    "plt.plot([xe[index_99p9999pct],xe[index_99p9999pct]],[0,1],'--',c='grey')\n",
    "\n",
    "alarm_rate = err_pred_hist_err/err_pred_hist\n",
    "ax.plot((xe[:-1]+xe[1:])/2, alarm_rate, '-o', color='red', label='Eerr>10')\n",
    "# ax.plot(xe[:-1],alarm_rate,'-o', c='red', label='Eerr>10')\n",
    "# ax.stairs(np.cumsum(err_pred_hist)/np.sum(err_pred_hist),xe,color='black')\n",
    "# ax.set_xlabel(r'$log_{10}(Normalized\\ Err_{pred})$')\n",
    "ax.set_ylabel('ratio of $\\epsilon_{Eng}$ > 10')\n",
    "ax.set_ylim([0,1])\n",
    "ax.spines['right'].set_color('red')\n",
    "ax.yaxis.label.set_color('red')\n",
    "ax.tick_params(axis='y', colors='red')\n",
    "fig.show()"
   ]
  },
  {
   "cell_type": "code",
   "execution_count": null,
   "id": "827ca4f5-8268-4875-931a-0908ac850d93",
   "metadata": {},
   "outputs": [],
   "source": []
  }
 ],
 "metadata": {
  "kernelspec": {
   "display_name": "cg310",
   "language": "python",
   "name": "cg310"
  },
  "language_info": {
   "codemirror_mode": {
    "name": "ipython",
    "version": 3
   },
   "file_extension": ".py",
   "mimetype": "text/x-python",
   "name": "python",
   "nbconvert_exporter": "python",
   "pygments_lexer": "ipython3",
   "version": "3.10.4"
  },
  "widgets": {
   "application/vnd.jupyter.widget-state+json": {
    "state": {},
    "version_major": 2,
    "version_minor": 0
   }
  }
 },
 "nbformat": 4,
 "nbformat_minor": 5
}
