{
 "cells": [
  {
   "cell_type": "code",
   "execution_count": null,
   "id": "263f8048-abf8-45d0-8c92-73e540f4928f",
   "metadata": {
    "tags": []
   },
   "outputs": [],
   "source": [
    "import numpy as np\n",
    "import time \n",
    "import os  \n",
    "import xarray as xr\n",
    "import subprocess\n",
    "import matplotlib.pyplot as plt\n",
    "from matplotlib import colors\n",
    "import cartopy.crs as ccrs\n",
    "# import torch\n",
    "# from torch import nn  "
   ]
  },
  {
   "cell_type": "code",
   "execution_count": null,
   "id": "75b4e98c-e48e-4e7e-a09c-2032778b1f16",
   "metadata": {
    "tags": []
   },
   "outputs": [],
   "source": [
    "## import self defined functions\n",
    "from sys import path \n",
    "# insert at 1, 0 is the script path (or '' in REPL)\n",
    "path.insert(1, '/tigress/cw55/local/python_lib')\n",
    "from cg_funcs import global_mean_xarray "
   ]
  },
  {
   "cell_type": "code",
   "execution_count": null,
   "id": "174d1ec8-7ba5-4b8b-8592-2f04dee27232",
   "metadata": {
    "tags": []
   },
   "outputs": [],
   "source": [
    "plt.rcParams['font.size'] = '6'"
   ]
  },
  {
   "cell_type": "code",
   "execution_count": null,
   "id": "04c141f4-7613-49cd-8bf8-e8affadca104",
   "metadata": {
    "tags": []
   },
   "outputs": [],
   "source": [
    "file_path = '/scratch/gpfs/cw55/AM4/work/CTL2000s_testNNdev_stellarcpu_intelmpi_22_768PE/'\n",
    "  \n",
    "# ds = xr.open_dataset(file_path+'/HISTORY/20000101.atmos_8xdaily.tile2.nc')  \n",
    "ds = xr.open_dataset(file_path+'/POSTP/20000101.atmos_8xdaily.nc') \n",
    "ds1 = ds.rename({'grid_yt':'lat','grid_xt':'lon'})\n",
    "\n",
    "file_path = '/scratch/gpfs/cw55/AM4/work/CTL2000s_testNNdev_stellarcpu_intelmpi_22_768PE_base/'\n",
    "# ds = xr.open_dataset(file_path+'/HISTORY/20000101.atmos_8xdaily.tile2.nc')  \n",
    "ds = xr.open_dataset(file_path+'/POSTP/20000101.atmos_8xdaily.nc') \n",
    "ds2 = ds.rename({'grid_yt':'lat','grid_xt':'lon'})\n"
   ]
  },
  {
   "cell_type": "code",
   "execution_count": null,
   "id": "84ca585c-f209-4fe5-b2d8-f1e1578a5ed5",
   "metadata": {
    "tags": []
   },
   "outputs": [],
   "source": [
    "def plot_var12_diff(var1,level = np.arange(0,400,10)):\n",
    "    fig, axs = plt.subplots(nrows=1,ncols=3,figsize=(8,2),dpi=200)\n",
    "    axs = axs.flatten()\n",
    "    \n",
    "    for i in range(2):\n",
    "        ax=axs[i]\n",
    "        da = ds1[var1[i]][1:-1].mean('time')\n",
    "        da.plot(ax=ax, levels=level, extend='both') \n",
    "        # ax.set_title(f'{var1[i]} GM: {da.mean().values:4.2f}')  \n",
    "        ax.set_title(f'{var1[i]} GM: {global_mean_xarray(da).values:4.2f}')  \n",
    "    ax=axs[2]\n",
    "    level = np.arange(-20,20,2)\n",
    "    da = (ds1[var1[0]].mean('time')-ds1[var1[1]].mean('time'))\n",
    "    da.plot(ax=ax, levels=level, extend='both') \n",
    "    ax.set_title(f'diff GM: {da.mean().values:4.2f}')  \n",
    "    for ax in axs:\n",
    "        ax.set(xlabel=None,ylabel=None)\n",
    "    fig.tight_layout()  \n",
    "def plot_ds12_diff(ds_list,level = np.arange(0,300,10), dlevel = np.arange(-10,10.1,0.5)):\n",
    "    fig, axs = plt.subplots(nrows=1,ncols=3,figsize=(8,2),dpi=200)\n",
    "    axs = axs.flatten()\n",
    "    for i in range(2):\n",
    "        ax=axs[i]\n",
    "        da = ds_list[i].mean('time').load()\n",
    "        da.plot(ax=ax, levels=level, extend='both')  \n",
    "        ax.set_title(f'GM: {global_mean_xarray(da).values:4.2f}') \n",
    "    ax=axs[2]\n",
    "    da = (ds_list[1].mean('time')-ds_list[0].mean('time')).load()\n",
    "    da.plot(ax=ax, levels=dlevel, extend='both') \n",
    "    ax.set_title(f'diff mean: {(da.mean()).values:4.2f}')  \n",
    "    ax.set_title(f'diff GM: {global_mean_xarray(da).values:4.2f}') \n",
    "    for ax in axs:\n",
    "        ax.set(xlabel=None,ylabel=None)\n",
    "    fig.tight_layout()  \n",
    "def plot_zonal_ta_diff(ds_list,level = np.arange(200,320,10), dlevel = np.arange(-1,1.1,0.1)):\n",
    "    fig, axs = plt.subplots(nrows=1,ncols=3,figsize=(8,2),dpi=200)\n",
    "    axs = axs.flatten()\n",
    "    for i in range(2):\n",
    "        ax=axs[i]\n",
    "        da = ds_list[i].mean(['time','lon']).load()\n",
    "        da.plot(ax=ax, levels=level, extend='both')  \n",
    "        ax.set_title(f'mean: {(da.mean()).values:4.2f}')  \n",
    "    ax=axs[2]\n",
    "    da = (ds_list[1]-ds_list[0]).mean(['time','lon']).load()\n",
    "    da.plot(ax=ax, levels=dlevel, extend='both') \n",
    "    ax.set_title(f'diff mean: {(da.mean()).values:4.2f}')  \n",
    "    # ax.set_title(f'diff GM: {global_mean_xarray(da).values:4.2f}') \n",
    "    for ax in axs:\n",
    "        ax.set(xlabel=None,ylabel=None)\n",
    "        ax.invert_yaxis()\n",
    "    fig.tight_layout()  "
   ]
  },
  {
   "cell_type": "code",
   "execution_count": null,
   "id": "1573dc1a-0d38-4299-9de5-b4893a0ee30d",
   "metadata": {
    "tags": []
   },
   "outputs": [],
   "source": [
    "var = 'temp'\n",
    "ds_list = [ds1[var],ds2[var]]\n",
    "plot_zonal_ta_diff(ds_list,level = np.arange(200,330,10), dlevel = np.arange(-1,1.1,0.05)) "
   ]
  },
  {
   "cell_type": "code",
   "execution_count": null,
   "id": "d6ef7fe3-19ad-4865-bdcd-a68d036a4eef",
   "metadata": {
    "tags": []
   },
   "outputs": [],
   "source": [
    "var = 't_surf'\n",
    "ds_list = [ds1[var] ,ds2[var] ]\n",
    "plot_ds12_diff(ds_list,level = np.arange(200,330,5), dlevel = np.arange(-2,2.1,0.5)) "
   ]
  },
  {
   "cell_type": "code",
   "execution_count": null,
   "id": "7b3fade8-509e-425f-bf2e-890509fea7e2",
   "metadata": {
    "tags": []
   },
   "outputs": [],
   "source": [
    "var = ['nn_olr_clr','olr_clr',]\n",
    "plot_var12_diff(var)\n",
    "\n",
    "var = ['nn_olr','olr',]\n",
    "plot_var12_diff(var)"
   ]
  },
  {
   "cell_type": "code",
   "execution_count": null,
   "id": "4c2ffe9c-8674-484d-9e63-bdfd04743e73",
   "metadata": {
    "tags": []
   },
   "outputs": [],
   "source": [
    "var = ['nn_swup_toa_clr','swup_toa_clr',]\n",
    "plot_var12_diff(var,level = np.arange(100,300,10),)\n",
    "var = ['nn_swup_toa','swup_toa',]\n",
    "plot_var12_diff(var,level = np.arange(100,300,10),)"
   ]
  },
  {
   "cell_type": "code",
   "execution_count": null,
   "id": "dadae3d9-787d-402c-a723-3cc4909fc1f8",
   "metadata": {
    "tags": []
   },
   "outputs": [],
   "source": [
    "def plot_var12_diff2(var1,ds_sel):\n",
    "    fig, axs = plt.subplots(nrows=1,ncols=3,figsize=(8,2),dpi=300)\n",
    "    axs = axs.flatten()\n",
    "    # level = np.arange(0,1400,10)\n",
    "    for i in range(2):\n",
    "        ax=axs[i]\n",
    "        da = ds_sel[var1[i]]\n",
    "        da.plot(ax=ax, extend='both') \n",
    "        # ax.set_title(f'{var1[i]} GM: {da.mean().values:4.2f}')\n",
    "        ax.set_title(f'{var1[i]} GM: {global_mean_xarray(da).values:4.2f}')  \n",
    "    ax=axs[2]\n",
    "    # level = np.arange(-1000,1000,2)\n",
    "    da = (ds_sel[var1[0]]-ds_sel[var1[1]])\n",
    "    da.plot(ax=ax, extend='both') \n",
    "    ax.set_title(f'diff GM: {da.mean().values:4.2f}')  \n",
    "    for ax in axs:\n",
    "        ax.set(xlabel=None,ylabel=None)\n",
    "    fig.tight_layout()   \n",
    "# ds_sel = ds.mean('time')\n",
    "ds_sel = ds1.isel(time=1) \n",
    "var = ['nn_swdn_toa','swdn_toa',]\n",
    "plot_var12_diff2(var,ds_sel)  "
   ]
  },
  {
   "cell_type": "code",
   "execution_count": null,
   "id": "f8711dc0-c38c-46a7-bafe-ac245b4eb62d",
   "metadata": {
    "tags": []
   },
   "outputs": [],
   "source": [
    "fig, axs = plt.subplots(nrows=1,ncols=3,figsize=(8,2),dpi=200)\n",
    "axs = axs.flatten()\n",
    "# level = np.arange(0,1400,10)\n",
    "itime = 4\n",
    "da_list = [ ds1['swup_toa_clr'][itime],\n",
    "            ds1['nn_swup_toa_clr'][itime],] \n",
    "da_list.append(da_list[1]-da_list[0])\n",
    "for i in range(3):\n",
    "    ax=axs[i]\n",
    "    da = da_list[i]\n",
    "    da.plot(ax=ax, extend='both') \n",
    "    ax.set_title(f' GM: {da.mean().values:4.2f}')   \n",
    "fig.tight_layout()  \n",
    "fig.show()"
   ]
  },
  {
   "cell_type": "markdown",
   "id": "a55995ca-8327-446a-b528-76e43ea37f10",
   "metadata": {},
   "source": [
    "# Diff in rsdt"
   ]
  },
  {
   "cell_type": "code",
   "execution_count": null,
   "id": "2e832fa3",
   "metadata": {
    "tags": []
   },
   "outputs": [],
   "source": [
    "def plot_var12_diff2(var1,ds_sel,level1=np.arange(-500,1400,100),level2=np.arange(-500,500,100)):\n",
    "    fig, axs = plt.subplots(nrows=1,ncols=3,figsize=(8,2),dpi=200)\n",
    "    axs = axs.flatten() \n",
    "    for i in range(3): \n",
    "        ax=axs[i] \n",
    "        da = ds_sel[var1[0]]\n",
    "        da.plot.contour(ax=ax, levels=np.arange(-500,1400,500)) \n",
    "    for i in range(2):\n",
    "        ax=axs[i]\n",
    "        da = ds_sel[var1[i]]\n",
    "        da.plot(ax=ax, levels=level1, extend='both') \n",
    "        ax.set_title(f'{var1[i]} GM: {global_mean_xarray(da).values:4.2f}')  \n",
    "    ax=axs[2]\n",
    "    level = level2\n",
    "    da = (ds_sel[var1[1]]-ds_sel[var1[0]])\n",
    "    da.plot(ax=ax, levels=level2, extend='both') \n",
    "    ax.set_title(f'diff GM: {global_mean_xarray(da).values:4.2f}') \n",
    "    for ax in axs:\n",
    "        ax.set(xlabel=None,ylabel=None)\n",
    "    fig.tight_layout()   \n",
    "# ds_sel = ds.mean('time')\n",
    "ds_sel = ds1.isel(time=3) \n",
    "print(ds_sel.time.data)\n",
    "var = ['nn_swdn_toa','swdn_toa',]\n",
    "plot_var12_diff2(var,ds_sel)   "
   ]
  },
  {
   "cell_type": "markdown",
   "id": "40c656a0-e00d-4220-bf7f-3dea6df460c8",
   "metadata": {},
   "source": [
    "# "
   ]
  },
  {
   "cell_type": "markdown",
   "id": "42192783-13df-4541-820c-b15ab146ad39",
   "metadata": {
    "tags": []
   },
   "source": [
    "# Check Error in Energe conservation"
   ]
  },
  {
   "cell_type": "markdown",
   "id": "87f06003-a29d-4287-9978-f11710196531",
   "metadata": {},
   "source": [
    "## lw"
   ]
  },
  {
   "cell_type": "code",
   "execution_count": null,
   "id": "0e480f23-659a-44a3-811e-a1c4ce6b8497",
   "metadata": {
    "tags": []
   },
   "outputs": [],
   "source": [
    "\n",
    "hybrid_p_sigma_para = xr.open_dataset('/tigress/cw55/data/NNRTMC_dataset/AM4_pk_bk_202207.nc')\n",
    "A_k = hybrid_p_sigma_para.ak.values\n",
    "B_k = hybrid_p_sigma_para.bk.values \n",
    "def energy_error_lw_2d(rlut, rlus, rlds, tdt_lw, ps):\n",
    "    C_p = 1004.64    # J/kg/K \n",
    "    g   = 9.8        # m/s^2  \n",
    "    k = tdt_lw.shape[0]\n",
    "    nlat = ps.shape[0] \n",
    "    P_lev = A_k[:,None,None] + np.matmul(B_k[:,None],ps.reshape(1,-1)).reshape(k+1,nlat,-1)\n",
    "    dP = (P_lev[1:,:,:] - P_lev[:33,:,:])\n",
    "    F_net = rlus - rlut - rlds \n",
    "    sum_Cphr_gdp = C_p/g * (tdt_lw*dP).sum(axis=0)\n",
    "    E_err = F_net - sum_Cphr_gdp\n",
    "    return E_err\n",
    "def energy_error_sw_2d(rsut, rsdt, rsus, rsds, tdt_sw, ps):\n",
    "    C_p = 1004.64    # J/kg/K \n",
    "    g   = 9.8        # m/s^2  \n",
    "    k = tdt_lw.shape[0]\n",
    "    nlat = ps.shape[0] \n",
    "    P_lev = A_k[:,None,None] + np.matmul(B_k[:,None],ps.reshape(1,-1)).reshape(k+1,nlat,-1)\n",
    "    dP = (P_lev[1:,:,:] - P_lev[:33,:,:])\n",
    "    F_net = rsdt - rsut + rsus - rsds \n",
    "    sum_Cphr_gdp = C_p/g * (tdt_sw*dP).sum(axis=0)\n",
    "    E_err = F_net - sum_Cphr_gdp\n",
    "    return E_err"
   ]
  },
  {
   "cell_type": "code",
   "execution_count": null,
   "id": "f7272ede-ddf3-43ac-b869-261086732428",
   "metadata": {
    "tags": []
   },
   "outputs": [],
   "source": [
    "ds_sel = ds1.isel(time=[0,1,2,3,4,5,6]).mean('time')\n",
    "ds_sel = ds1.isel(time=[4]).mean('time')\n",
    "rlut = ds_sel['olr'].values\n",
    "rlus = ds_sel['lwup_sfc'].values\n",
    "rlds = ds_sel['lwdn_sfc'].values\n",
    "tdt_lw = ds_sel['tdt_lw'].values\n",
    "ps   = ds_sel['nn_plevel'].values[-1,:,:]\n",
    "eng_err = energy_error_lw_2d(rlut, rlus, rlds, tdt_lw, ps)\n",
    "fig, axs = plt.subplots(nrows=1,ncols=2,figsize=(6,2),dpi=200)\n",
    "axs = axs.flatten()\n",
    "h = axs[0].contourf(eng_err,levels = np.arange(-2,2.01,0.1))\n",
    "# plt.colorbar(ax =axs[0])\n",
    "fig.colorbar(h, ax=axs[0])\n",
    "axs[1].hist(eng_err.flatten(),bins=30)\n",
    "axs[1].set_yscale('log')\n",
    "fig.show()"
   ]
  },
  {
   "cell_type": "code",
   "execution_count": null,
   "id": "5bd04c30-fcfb-4cdd-acdb-76aa50803821",
   "metadata": {
    "tags": []
   },
   "outputs": [],
   "source": [
    "ds_sel = ds2.isel(time=[0,1]).mean('time')\n",
    "ds_sel = ds2.isel(time=[0]).mean('time')\n",
    "skycond = '_clr'\n",
    "skycond = ''\n",
    "rlut = ds_sel['nn_olr'+skycond].values\n",
    "rlus = ds_sel['nn_lwup_sfc'].values\n",
    "rlds = ds_sel['nn_lwdn_sfc'+skycond].values\n",
    "tdt_lw = ds_sel['nn_tdt_lw'+skycond].values\n",
    "ps   = ds_sel['nn_plevel'].values[-1,:,:]\n",
    "eng_err = energy_error_lw_2d(rlut, rlus, rlds, tdt_lw, ps)\n",
    "fig, axs = plt.subplots(nrows=1,ncols=2,figsize=(6,2),dpi=200)\n",
    "axs = axs.flatten()\n",
    "h = axs[0].contourf(eng_err )\n",
    "fig.colorbar(h, ax=axs[0])\n",
    "axs[1].hist(eng_err.flatten(),bins=30)\n",
    "axs[1].set_yscale('log')\n",
    "ind = np.argwhere(rlus.flatten()>-100)\n",
    "axs[1].hist(eng_err.flatten()[ind],bins=30)\n",
    "axs[1].set_yscale('log')\n",
    "fig.show()"
   ]
  },
  {
   "cell_type": "code",
   "execution_count": null,
   "id": "c2ac70b6-a25f-4cfc-8dd7-e65e764e6569",
   "metadata": {
    "tags": []
   },
   "outputs": [],
   "source": [
    "ds_sel = ds2.isel(time=[0,1]).mean('time')\n",
    "ds_sel = ds2.isel(time=[0]).mean('time') \n",
    "rlus = ds_sel['nn_lwup_sfc'].values  \n",
    "fig, axs = plt.subplots(nrows=1,ncols=2,figsize=(6,2),dpi=200)\n",
    "axs = axs.flatten()\n",
    "h = axs[0].contourf(rlus ) \n",
    "fig.colorbar(h, ax=axs[0])\n",
    "axs[1].hist(rlus.flatten(),bins=30)\n",
    "axs[1].set_yscale('log')\n",
    "ind = np.argwhere(rlus.flatten()>-100)\n",
    "axs[1].hist(rlus.flatten()[ind],bins=30)\n",
    "axs[1].set_yscale('log')\n",
    "fig.show()"
   ]
  },
  {
   "cell_type": "markdown",
   "id": "757d395a-bfc9-4ebb-8654-1745789a338a",
   "metadata": {},
   "source": [
    "##  sw"
   ]
  },
  {
   "cell_type": "code",
   "execution_count": null,
   "id": "cb88aec4-9f89-46ae-a6dc-fc37e493e38a",
   "metadata": {
    "tags": []
   },
   "outputs": [],
   "source": [
    "ds_sel = ds.isel(time=[0,1]).mean('time')\n",
    "rsut = ds_sel['swup_toa'].values\n",
    "rsdt = ds_sel['swdn_toa'].values\n",
    "rsus = ds_sel['swup_sfc'].values\n",
    "rsds = ds_sel['swdn_sfc'].values\n",
    "tdt_sw = ds_sel['tdt_sw'].values\n",
    "ps   = ds_sel['nn_plevel'].values[-1,:,:]\n",
    "eng_err = energy_error_sw_2d(rsut, rsdt, rsus, rsds, tdt_sw, ps)\n",
    "fig, axs = plt.subplots(nrows=1,ncols=2,figsize=(6,2),dpi=200)\n",
    "axs = axs.flatten()\n",
    "h = axs[0].contourf(eng_err,levels = np.arange(-2,2.01,0.1))\n",
    "# plt.colorbar(ax =axs[0])\n",
    "fig.colorbar(h, ax=axs[0])\n",
    "axs[1].hist(eng_err.flatten(),bins=30)\n",
    "axs[1].set_yscale('log')\n",
    "fig.show()"
   ]
  },
  {
   "cell_type": "code",
   "execution_count": null,
   "id": "9972f716-af20-4065-b0ae-e7a6ab65d2e7",
   "metadata": {
    "tags": []
   },
   "outputs": [],
   "source": [
    "ds_sel = ds2.isel(time=[0,1]).mean('time')\n",
    "rsut = ds_sel['nn_swup_toa'].values\n",
    "rsdt = ds_sel['nn_swdn_toa'].values\n",
    "rsus = ds_sel['nn_swup_sfc'].values\n",
    "rsds = ds_sel['nn_swdn_sfc'].values\n",
    "tdt_sw = ds_sel['nn_tdt_sw'].values\n",
    "ps   = ds_sel['nn_plevel'].values[-1,:,:]\n",
    "eng_err = energy_error_sw_2d(rsut, rsdt, rsus, rsds, tdt_sw, ps)\n",
    "fig, axs = plt.subplots(nrows=1,ncols=2,figsize=(6,2),dpi=200)\n",
    "axs = axs.flatten()\n",
    "h = axs[0].contourf(eng_err,levels = np.arange(-2,2.01,0.1))\n",
    "# plt.colorbar(ax =axs[0])\n",
    "fig.colorbar(h, ax=axs[0])\n",
    "axs[1].hist(eng_err.flatten(),bins=30)\n",
    "axs[1].set_yscale('log')\n",
    "fig.show()"
   ]
  },
  {
   "cell_type": "code",
   "execution_count": null,
   "id": "fdc7c3b5-cb50-4b7c-9ca1-dbd809a3a998",
   "metadata": {
    "tags": []
   },
   "outputs": [],
   "source": [
    "ds_sel = ds1\n",
    "\n",
    "fig, axs = plt.subplots(nrows=1,ncols=2,figsize=(6,2),dpi=200)\n",
    "axs = axs.flatten()\n",
    "data = ds_sel['swdn_sfc'].values\n",
    "axs[0].hist(data.flatten(),bins=30)\n",
    "axs[0].set_yscale('log')\n",
    "data = ds_sel['nn_swdn_sfc'].values\n",
    "axs[1].hist(data.flatten(),bins=30)\n",
    "axs[1].set_yscale('log')\n",
    "fig.show()"
   ]
  },
  {
   "cell_type": "code",
   "execution_count": null,
   "id": "19fd4399-1748-4471-b1fe-da87a5bc3009",
   "metadata": {
    "tags": []
   },
   "outputs": [],
   "source": [
    "ds_sel = ds1\n",
    "\n",
    "fig, axs = plt.subplots(nrows=1,ncols=2,figsize=(6,2),dpi=200)\n",
    "axs = axs.flatten()\n",
    "data = ds_sel['swdn_sfc'].values\n",
    "axs[0].hist(data.flatten(),bins=30)\n",
    "axs[0].set_yscale('log')\n",
    "data = ds_sel['nn_swdn_sfc'].values - ds_sel['swdn_sfc'].values\n",
    "axs[1].hist(data.flatten(),bins=30)\n",
    "axs[1].set_yscale('log')\n",
    "fig.show()"
   ]
  },
  {
   "cell_type": "code",
   "execution_count": null,
   "id": "127eadfa-54cf-4cd3-b059-737a10c44fd9",
   "metadata": {
    "tags": []
   },
   "outputs": [],
   "source": [
    "ds_sel = ds1\n",
    "\n",
    "fig, axs = plt.subplots(nrows=1,ncols=2,figsize=(6,2),dpi=200)\n",
    "axs = axs.flatten()\n",
    "data = ds_sel['swup_sfc'].values\n",
    "axs[0].hist(data.flatten(),bins=30)\n",
    "axs[0].set_yscale('log')\n",
    "data = ds_sel['nn_swup_sfc'].values\n",
    "axs[1].hist(data.flatten(),bins=30)\n",
    "axs[1].set_yscale('log')\n",
    "fig.show()"
   ]
  },
  {
   "cell_type": "code",
   "execution_count": null,
   "id": "a1b5274a-4081-4bbe-8019-1313d421deac",
   "metadata": {
    "tags": []
   },
   "outputs": [],
   "source": [
    "ds_sel = ds1\n",
    "\n",
    "fig, axs = plt.subplots(nrows=1,ncols=2,figsize=(6,2),dpi=200)\n",
    "axs = axs.flatten()\n",
    "data = ds_sel['swup_sfc'].values/ds_sel['swdn_sfc'].values\n",
    "axs[0].hist(data.flatten(),bins=30)\n",
    "axs[0].set_yscale('log')\n",
    "data = ds_sel['nn_swup_sfc'].values/ds_sel['nn_swdn_sfc'].values\n",
    "axs[1].hist(data.flatten(),bins=30)\n",
    "axs[1].set_yscale('log')\n",
    "fig.show()"
   ]
  },
  {
   "cell_type": "code",
   "execution_count": null,
   "id": "14b277fa-ac57-4528-ad59-e5a039b3cdce",
   "metadata": {
    "tags": []
   },
   "outputs": [],
   "source": [
    "ds_sel = ds1\n",
    "\n",
    "fig, axs = plt.subplots(nrows=1,ncols=2,figsize=(6,2),dpi=200)\n",
    "axs = axs.flatten()\n",
    "data = ds_sel['swdn_sfc'].values/ds_sel['swdn_toa'].values\n",
    "axs[0].hist(data.flatten(),bins=30)\n",
    "axs[0].set_yscale('log')\n",
    "data = ds_sel['nn_swdn_sfc'].values/ds_sel['nn_swdn_toa'].values\n",
    "axs[1].hist(data.flatten(),bins=30)\n",
    "axs[1].set_yscale('log')\n",
    "fig.show()"
   ]
  },
  {
   "cell_type": "code",
   "execution_count": null,
   "id": "a6edd035-e21d-4425-b347-ee5252cee725",
   "metadata": {
    "tags": []
   },
   "outputs": [],
   "source": [
    "ds_sel = ds1\n",
    "\n",
    "fig, axs = plt.subplots(nrows=1,ncols=2,figsize=(6,2),dpi=200)\n",
    "axs = axs.flatten()\n",
    "data = ds_sel['swup_toa'].values/ds_sel['swdn_toa'].values\n",
    "axs[0].hist(data.flatten(),bins=30)\n",
    "axs[0].set_yscale('log')\n",
    "data = ds_sel['nn_swup_toa'].values/ds_sel['nn_swdn_toa'].values\n",
    "axs[1].hist(data.flatten(),bins=30)\n",
    "axs[1].set_yscale('log')\n",
    "fig.show()"
   ]
  },
  {
   "cell_type": "code",
   "execution_count": null,
   "id": "dacb2f2b-b864-4abc-8989-258e8787c4a2",
   "metadata": {
    "tags": []
   },
   "outputs": [],
   "source": [
    "ds_sel = ds1\n",
    "\n",
    "fig, axs = plt.subplots(nrows=1,ncols=2,figsize=(6,2),dpi=200)\n",
    "axs = axs.flatten()\n",
    "data = ds_sel['lwdn_sfc'].values/ds_sel['lwup_sfc'].values\n",
    "axs[0].hist(data.flatten(),bins=30)\n",
    "axs[0].set_yscale('log')\n",
    "data = ds_sel['nn_lwdn_sfc'].values/ds_sel['nn_lwup_sfc'].values\n",
    "axs[1].hist(data.flatten(),bins=30)\n",
    "axs[1].set_yscale('log')\n",
    "fig.show()"
   ]
  },
  {
   "cell_type": "code",
   "execution_count": null,
   "id": "454ad043-b576-4679-b671-997d4b07100a",
   "metadata": {
    "tags": []
   },
   "outputs": [],
   "source": [
    "ds_sel = ds1\n",
    "\n",
    "fig, axs = plt.subplots(nrows=1,ncols=2,figsize=(6,2),dpi=200)\n",
    "axs = axs.flatten()\n",
    "data = ds_sel['olr'].values/ds_sel['lwup_sfc'].values\n",
    "axs[0].hist(data.flatten(),bins=30)\n",
    "axs[0].set_yscale('log')\n",
    "data = ds_sel['nn_olr'].values/ds_sel['nn_lwup_sfc'].values\n",
    "axs[1].hist(data.flatten(),bins=30)\n",
    "axs[1].set_yscale('log')\n",
    "fig.show()"
   ]
  },
  {
   "cell_type": "code",
   "execution_count": null,
   "id": "74c7d7c6-bb94-498f-9b95-df26fc0b87b9",
   "metadata": {
    "tags": []
   },
   "outputs": [],
   "source": [
    "# ds_sel = ds1\n",
    "\n",
    "# fig, axs = plt.subplots(nrows=1,ncols=2,figsize=(6,2),dpi=200)\n",
    "# axs = axs.flatten()\n",
    "# data = ds_sel['tdt_sw'].values*86400\n",
    "# axs[0].hist(data.flatten(),bins=30)\n",
    "# axs[0].set_yscale('log')\n",
    "# data = ds_sel['tdt_lw'].values*86400\n",
    "# axs[1].hist(data.flatten(),bins=30)\n",
    "# axs[1].set_yscale('log')\n",
    "# fig.show()"
   ]
  },
  {
   "cell_type": "code",
   "execution_count": null,
   "id": "b478b62b-6677-406e-8774-c1da7a9557f8",
   "metadata": {
    "tags": []
   },
   "outputs": [],
   "source": [
    "# ds_sel = ds1\n",
    "\n",
    "# fig, axs = plt.subplots(nrows=1,ncols=2,figsize=(6,2),dpi=200)\n",
    "# axs = axs.flatten()\n",
    "# data = ds_sel['tdt_lw'].values*86400\n",
    "# axs[0].hist(data.flatten(),bins=30)\n",
    "# axs[0].set_yscale('log')\n",
    "# shape4d = ds_sel['tdt_lw'].shape\n",
    "# a2, b2 = xr.broadcast(ds_sel['tdt_lw'], ds_sel['lwup_sfc'])\n",
    "# data = a2.values/b2.values\n",
    "# axs[1].hist(data.flatten(),bins=30)\n",
    "# axs[1].set_yscale('log')\n",
    "# fig.show()"
   ]
  },
  {
   "cell_type": "code",
   "execution_count": null,
   "id": "7a644d12-756d-4000-beba-2e4237ec3784",
   "metadata": {
    "tags": []
   },
   "outputs": [],
   "source": [
    "# ds_sel = ds1\n",
    "\n",
    "# fig, axs = plt.subplots(nrows=1,ncols=2,figsize=(6,2),dpi=200)\n",
    "# axs = axs.flatten()\n",
    "# data = ds_sel['tdt_sw_clr'].values*86400\n",
    "# axs[0].hist(data.flatten(),bins=30)\n",
    "# axs[0].set_yscale('log')\n",
    "# data = ds_sel['tdt_lw_clr'].values*86400\n",
    "# axs[1].hist(data.flatten(),bins=30)\n",
    "# axs[1].set_yscale('log')\n",
    "# fig.show()"
   ]
  },
  {
   "cell_type": "code",
   "execution_count": null,
   "id": "22442f2a-0766-4473-bda1-b9ca92565fc5",
   "metadata": {
    "tags": []
   },
   "outputs": [],
   "source": [
    "# ds_sel = ds1\n",
    "# for k in range(0,33,5):\n",
    "#     fig, axs = plt.subplots(nrows=1,ncols=2,figsize=(6,2),dpi=200)\n",
    "#     axs = axs.flatten()\n",
    "#     data = ds_sel['nn_tdt_sw'][:,k,:,:].values*86400\n",
    "#     axs[0].hist(data.flatten(),bins=30)\n",
    "#     axs[0].set_yscale('log')\n",
    "#     data = ds_sel['nn_tdt_lw'][:,k,:,:].values*86400\n",
    "#     axs[1].hist(data.flatten(),bins=30) \n",
    "#     axs[1].set_yscale('log')\n",
    "#     fig.show()"
   ]
  },
  {
   "cell_type": "code",
   "execution_count": null,
   "id": "7de69e50-8975-4797-969e-57bece1aca5f",
   "metadata": {
    "tags": []
   },
   "outputs": [],
   "source": [
    "\n",
    "# skycond = '_clr'\n",
    "# skycond = ''\n",
    "# for fi in range(1,7):\n",
    "#     file_path = '/scratch/gpfs/cw55/AM4/work/CTL2000s_testNNdev_stellarcpu_intelmpi_22_768PE/'\n",
    "\n",
    "#     file_path = '/scratch/gpfs/cw55/AM4/work/CTL2000s_testNNdev_stellarcpu_intelmpi_22_768PE_base/'\n",
    "\n",
    "#     ds = xr.open_dataset(file_path+f'/HISTORY/20000101.atmos_8xdaily.tile{fi}.nc')  \n",
    "#     # ds = xr.open_dataset(file_path+'/POSTP/20000101.atmos_8xdaily.nc') \n",
    "\n",
    "#     ds_sel = ds\n",
    "\n",
    "#     fig, axs = plt.subplots(nrows=1,ncols=2,figsize=(6,2),dpi=100)\n",
    "#     axs = axs.flatten()\n",
    "#     data = ds_sel['nn_tdt_lw'+skycond].values\n",
    "#     axs[0].hist(data.flatten()*86400,bins=30)\n",
    "#     axs[0].set_yscale('log')\n",
    "#     data = ds_sel['nn_tdt_lw'+skycond].values-ds_sel['tdt_lw'+skycond].values\n",
    "#     axs[1].hist(data.flatten()*86400,bins=30)\n",
    "#     axs[1].set_yscale('log')\n",
    "#     fig.show() \n",
    "#     fig, axs = plt.subplots(nrows=1,ncols=2,figsize=(6,2),dpi=100)\n",
    "#     axs = axs.flatten()\n",
    "#     data = ds_sel['nn_tdt_sw'+skycond].values\n",
    "#     axs[0].hist(data.flatten()*86400,bins=30)\n",
    "#     axs[0].set_yscale('log')\n",
    "#     data = ds_sel['nn_tdt_sw'+skycond].values-ds_sel['tdt_sw'+skycond].values\n",
    "#     axs[1].hist(data.flatten()*86400,bins=30)\n",
    "#     axs[1].set_yscale('log')\n",
    "#     fig.show()\n",
    "\n",
    "#     data = ds_sel['nn_tdt_sw'+skycond].values-ds_sel['tdt_sw'+skycond].values\n",
    "#     print(np.max(np.abs(data*86400)))\n",
    "\n",
    "#     data = ds_sel['nn_tdt_lw'+skycond].values-ds_sel['tdt_lw'+skycond].values\n",
    "#     print(np.max(np.abs(data*86400)))"
   ]
  },
  {
   "cell_type": "markdown",
   "id": "f80b2c81-47a6-48cc-931c-22113c3dd121",
   "metadata": {},
   "source": [
    "# nn ratio"
   ]
  },
  {
   "cell_type": "code",
   "execution_count": null,
   "id": "290807c2-e996-4935-8c5d-9f5ed2e14ee0",
   "metadata": {
    "tags": []
   },
   "outputs": [],
   "source": [
    " \n",
    "file_path = '/scratch/gpfs/cw55/AM4/work/CTL2000s_testNNdev_stellarcpu_intelmpi_22_768PE/' \n",
    "for fi in range(1,7):\n",
    "    ds = xr.open_dataset(file_path+f'/HISTORY/20000101.atmos_8xdaily.tile{fi}.nc')  \n",
    "    # ds = xr.open_dataset(file_path+'/POSTP/20000101.atmos_8xdaily.nc') \n",
    "\n",
    "    ds_sel = ds\n",
    "    data = ds_sel['nn_lwup_sfc'].values\n",
    "    tmp = np.where(data<50, 1, 0 )\n",
    "    print(np.sum(tmp), data.size, f'{np.sum(tmp)/data.size*100:5.2f}%')\n",
    "\n",
    "ds = xr.open_dataset(file_path+'/POSTP/20000101.atmos_8xdaily.nc') \n",
    "ds_sel = ds1\n",
    "data = ds_sel['nn_lwup_sfc'].values\n",
    "tmp = np.where(data<50, 1, 0 )\n",
    "print(np.sum(tmp), data.size, f'{np.sum(tmp)/data.size*100:5.2f}%')"
   ]
  },
  {
   "cell_type": "code",
   "execution_count": null,
   "id": "d38f12ee-1929-4200-965d-b3530801c1dd",
   "metadata": {
    "tags": []
   },
   "outputs": [],
   "source": [
    " \n",
    "file_path = '/scratch/gpfs/cw55/AM4/work/CTL2000s_testNNdev_stellarcpu_intelmpi_22_768PE_base/'\n",
    "for fi in range(1,7):\n",
    "    ds = xr.open_dataset(file_path+f'/HISTORY/20000101.atmos_8xdaily.tile{fi}.nc')  \n",
    "    # ds = xr.open_dataset(file_path+'/POSTP/20000101.atmos_8xdaily.nc') \n",
    "\n",
    "    ds_sel = ds\n",
    "    data = ds_sel['nn_lwup_sfc'].values\n",
    "    tmp = np.where(data<50, 1, 0 )\n",
    "    print(np.sum(tmp), data.size, f'{np.sum(tmp)/data.size*100:5.2f}%')\n",
    "\n",
    "ds = xr.open_dataset(file_path+'/POSTP/20000101.atmos_8xdaily.nc') \n",
    "ds_sel = ds1\n",
    "data = ds_sel['nn_lwup_sfc'].values\n",
    "tmp = np.where(data<50, 1, 0 )\n",
    "print(np.sum(tmp), data.size, f'{np.sum(tmp)/data.size*100:5.2f}%')"
   ]
  },
  {
   "cell_type": "code",
   "execution_count": null,
   "id": "329a8fed-8ede-48ab-8e28-fadfcd843d1d",
   "metadata": {},
   "outputs": [],
   "source": []
  }
 ],
 "metadata": {
  "kernelspec": {
   "display_name": "cg310",
   "language": "python",
   "name": "cg310"
  },
  "language_info": {
   "codemirror_mode": {
    "name": "ipython",
    "version": 3
   },
   "file_extension": ".py",
   "mimetype": "text/x-python",
   "name": "python",
   "nbconvert_exporter": "python",
   "pygments_lexer": "ipython3",
   "version": "3.10.4"
  },
  "widgets": {
   "application/vnd.jupyter.widget-state+json": {
    "state": {},
    "version_major": 2,
    "version_minor": 0
   }
  }
 },
 "nbformat": 4,
 "nbformat_minor": 5
}
